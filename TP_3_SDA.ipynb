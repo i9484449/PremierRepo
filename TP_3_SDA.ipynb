{
 "cells": [
  {
   "cell_type": "markdown",
   "id": "77be62e9",
   "metadata": {},
   "source": [
    "<center><img src=\"logo.png\" width=\"500\" style=\"margin-left:auto; margin-right:auto\" /></center>\n",
    "\n",
    "<h2 align=\"center\">TP 3 - Listes chainées et tables de hachage </h2>\n",
    "\n",
    "<center><b> Structures de données avancées (M233)</b> <br>\n",
    "<center><b> Filière SDBDIA S7 </b> <br>\n",
    "Prof. Mohammed KASRI</center>"
   ]
  },
  {
   "cell_type": "markdown",
   "id": "796c5a1e",
   "metadata": {},
   "source": [
    "## Objectifs:\n",
    "\n",
    "- Implémenter les listes chainées, les piles et les files\n",
    "- Implémenter Les tables de hachage"
   ]
  },
  {
   "cell_type": "markdown",
   "id": "3a491bf0-59b8-4d56-8b05-2af46e713fa0",
   "metadata": {},
   "source": [
    "**Remarque:** Pour chaque implémentation, écrivez des tests pour vérifier que votre implémentation fonctionne correctement."
   ]
  },
  {
   "cell_type": "markdown",
   "id": "b46b77ea-a738-41ae-9c96-0946a7ce3724",
   "metadata": {},
   "source": [
    "### Exercice 1: Implémentation d'une pile avec la classe `List` en Python:\n",
    "\n",
    "Le code suivant définit une classe `Liste` qui implémente une structure de données de type liste (*liste dynamique*) avec quelques fonctionnalités de manipulation des éléments. Voici une description de chaque méthode :\n",
    "\n",
    "\n",
    "1. **`__init__(self)`** : Le constructeur qui initialise un attribut `contenu` en tant que liste vide.\n",
    "\n",
    "2. **`est_vide(self)`** : Vérifie si la liste est vide en renvoyant `True` si elle est vide, sinon `False`.\n",
    "\n",
    "3. **`longueur(self)`** : Retourne la taille de la liste (le nombre d'éléments qu'elle contient).\n",
    "\n",
    "4. **`ajout_debut(self, element)`** : Ajoute un élément au début de la liste (utilise `insert(0, element)`).\n",
    "\n",
    "5. **`ajout_fin(self, element)`** : Ajoute un élément à la fin de la liste (utilise `append(element)`).\n",
    "\n",
    "6. **`enleve_debut(self)`** : Retire et retourne l'élément au début de la liste. Si la liste est vide, elle affiche une erreur.\n",
    "\n",
    "7. **`enleve_fin(self)`** : Retire et retourne l'élément à la fin de la liste. Si la liste est vide, elle affiche une erreur.\n",
    "\n",
    "8. **`__repr__(self)`** : Retourne une représentation en chaîne de caractères de la liste pour l'affichage (convertit la liste en une chaîne via `str(self.contenu)`).\n"
   ]
  },
  {
   "cell_type": "code",
   "execution_count": 16,
   "id": "fd835df5",
   "metadata": {},
   "outputs": [],
   "source": [
    "class Liste:\n",
    "    def __init__(self):\n",
    "        self.contenu = []\n",
    "\n",
    "    def est_vide(self):\n",
    "        return len(self.contenu) == 0\n",
    "\n",
    "    def longueur(self):\n",
    "        return len(self.contenu)\n",
    "\n",
    "    def ajout_debut(self, element):\n",
    "        self.contenu.insert(0, element)\n",
    "\n",
    "    def ajout_fin(self, element):\n",
    "        self.contenu.append(element)\n",
    "\n",
    "    def enleve_debut(self):\n",
    "        if self.est_vide():\n",
    "            print(\"Erreur: La liste est vide.\")\n",
    "            return None\n",
    "        return self.contenu.pop(0)\n",
    "\n",
    "    def enleve_fin(self):\n",
    "        if self.est_vide():\n",
    "            print(\"Erreur: La liste est vide.\")\n",
    "            return None\n",
    "        return self.contenu.pop()\n",
    "\n",
    "    def debut(self):\n",
    "        if self.est_vide():\n",
    "            print(\"Erreur: La liste est vide.\")\n",
    "            return None\n",
    "        return self.contenu[0]\n",
    "\n",
    "    def fin(self):\n",
    "        if self.est_vide():\n",
    "            print(\"Erreur: La liste est vide.\")\n",
    "            return None\n",
    "        return self.contenu[-1]\n",
    "\n",
    "    def __repr__(self):\n",
    "        return str(self.contenu)"
   ]
  },
  {
   "cell_type": "markdown",
   "id": "fdf8d388",
   "metadata": {},
   "source": [
    "Vous pouvez tester avec la cellule suivante comment la classe précédente fonctionne:"
   ]
  },
  {
   "cell_type": "code",
   "execution_count": 17,
   "id": "8fd8ef35",
   "metadata": {},
   "outputs": [
    {
     "name": "stdout",
     "output_type": "stream",
     "text": [
      "Liste est vide: True\n",
      "Liste: [2, 1, 3]\n",
      "Longueur de la liste: 3\n",
      "Element enlevé du début: 2\n",
      "Liste après suppression: [1, 3]\n",
      "Element enlevé de la fin: 3\n",
      "Liste après suppression: [1]\n"
     ]
    }
   ],
   "source": [
    "liste = Liste()\n",
    "print(\"Liste est vide:\", liste.est_vide())  \n",
    "\n",
    "liste.ajout_debut(1)\n",
    "liste.ajout_debut(2)\n",
    "liste.ajout_fin(3)\n",
    "\n",
    "print(\"Liste:\", liste)  \n",
    "print(\"Longueur de la liste:\", liste.longueur()) \n",
    "\n",
    "print(\"Element enlevé du début:\", liste.enleve_debut())  \n",
    "print(\"Liste après suppression:\", liste)  \n",
    "\n",
    "print(\"Element enlevé de la fin:\", liste.enleve_fin())  \n",
    "print(\"Liste après suppression:\", liste)  "
   ]
  },
  {
   "cell_type": "markdown",
   "id": "436373ac",
   "metadata": {},
   "source": [
    "1) On veut implémenter une **pile** en se basant sur la classe `Liste` précédente. Complétez la code de la cellule suivante afin créer une classe `Pile` qui imlémente une pile. La classe contient les méthodes suivantes:\n",
    "\n",
    "- Un constructeur `__init__` qui inialise un attribut `contenu` avec un objet de type `Liste`.\n",
    "- Une méthode `est_vide(self)` qui renvoie True si la pile stockée dans `self.contenu` est vide et False sinon. rapplez vous que cette pile est de type `Liste`, on peut donc utiliser les méthodes de classe `Liste` ( valable aussi pour les questions suivantes)\n",
    "- Une méthode `profondeur(self)` qui renvoie le nombre d’éléments de la pile\n",
    "- Une méthode `push(self,element)` ajoutant element au sommet de la pile\n",
    "- Une méthode `pop(self)` qui : retourne `None` et affiche un message d’erreur si la pile est vide, sinon elle enlève l’élément au sommet de la pile et le renvoie.\n",
    "- Une méthode `__repr__(self)` renvoyant une chaîne représentant la pile"
   ]
  },
  {
   "cell_type": "code",
   "execution_count": 21,
   "id": "a33bb9fd",
   "metadata": {},
   "outputs": [],
   "source": [
    "class Pile:\n",
    "    def __init__(self):\n",
    "        self.contenu = Liste()\n",
    "\n",
    "    def est_vide(self):\n",
    "        # Votre code ici\n",
    "\n",
    "    def profondeur(self):\n",
    "        # Votre code ici\n",
    "\n",
    "    def empiler(self, element):\n",
    "        # Votre code ici\n",
    "\n",
    "    def depiler(self):\n",
    "        # Votre code ici\n",
    "\n",
    "    def sommet(self):\n",
    "        # Votre code ici\n",
    "\n",
    "    def __repr__(self):\n",
    "        return str(self.contenu)"
   ]
  },
  {
   "cell_type": "markdown",
   "id": "02dac0fb-7db6-46b6-9b0a-ba213bd679d5",
   "metadata": {},
   "source": [
    "2) Adaptez l'exercice 1 du TD3 pour qu'il exploite la classe `Pile`:"
   ]
  },
  {
   "cell_type": "code",
   "execution_count": 24,
   "id": "65c0b8d0-ca6b-4969-b663-3d7bc0a1cce3",
   "metadata": {},
   "outputs": [],
   "source": [
    "def verifier_parentheses(ch):\n",
    "    # Votre code ici"
   ]
  },
  {
   "cell_type": "code",
   "execution_count": 26,
   "id": "8d9cd2e6-5713-4ff7-b038-00e63d3540bd",
   "metadata": {},
   "outputs": [
    {
     "name": "stdout",
     "output_type": "stream",
     "text": [
      "(True, None)\n",
      "(True, None)\n",
      "(True, None)\n",
      "(False, 2)\n",
      "(False, 3)\n",
      "(False, 4)\n"
     ]
    }
   ],
   "source": [
    "# Tester votre fonction\n",
    "print(verifier_parentheses(\"(())\")) #  (True, None))\n",
    "print(verifier_parentheses(\"()()\")) # (True, None)\n",
    "print(verifier_parentheses(\"(a + b)\")) # (True, None)\n",
    "print(verifier_parentheses(\"())\")) # (False, 2)\n",
    "print(verifier_parentheses(\"abc(def\")) # (False, 3)\n",
    "print(verifier_parentheses(\"(())(\")) # (False, 4)"
   ]
  },
  {
   "cell_type": "markdown",
   "id": "1137cdfa",
   "metadata": {},
   "source": [
    "### Exercice 2:"
   ]
  },
  {
   "cell_type": "markdown",
   "id": "9f8bf795",
   "metadata": {},
   "source": [
    "1. En vous inspirant de la classe ``Pile`` de l’exercice 1, implémentez une classe ``File``."
   ]
  },
  {
   "cell_type": "code",
   "execution_count": 27,
   "id": "e9cea9d3",
   "metadata": {},
   "outputs": [],
   "source": [
    "# Votre code ici\n",
    "class File:\n",
    "    # Votre code ici"
   ]
  },
  {
   "cell_type": "markdown",
   "id": "7fbcb774",
   "metadata": {},
   "source": [
    "2. Complétez la fonction suivante pour simuler l'algorithme FIFO dans la gestion des processus:"
   ]
  },
  {
   "cell_type": "code",
   "execution_count": 28,
   "id": "8e542001",
   "metadata": {},
   "outputs": [],
   "source": [
    "def planification_processus(processus_list):\n",
    "    file =  # Votre code ici\n",
    "\n",
    "    # Enfiler les processus\n",
    "    for p in processus_list:\n",
    "        # Votre code ici\n",
    "        print(f\"Processus {p} ajouté à la file.\")\n",
    "\n",
    "    # Exécution des processus\n",
    "    while not file.est_vide():\n",
    "        p =  # Votre code ici\n",
    "        print(f\"Processus {p} en cours d'exécution...\")\n",
    "    print(\"Tous les processus ont été exécutés.\")"
   ]
  },
  {
   "cell_type": "code",
   "execution_count": 29,
   "id": "61dbb43c",
   "metadata": {},
   "outputs": [
    {
     "name": "stdout",
     "output_type": "stream",
     "text": [
      "Processus P1 ajouté à la file.\n",
      "Processus P2 ajouté à la file.\n",
      "Processus P3 ajouté à la file.\n",
      "Processus P4 ajouté à la file.\n",
      "Processus P1 en cours d'exécution...\n",
      "Processus P2 en cours d'exécution...\n",
      "Processus P3 en cours d'exécution...\n",
      "Processus P4 en cours d'exécution...\n",
      "Tous les processus ont été exécutés.\n"
     ]
    }
   ],
   "source": [
    "# Tester la fonction précédente\n",
    "planification_processus([\"P1\", \"P2\", \"P3\", \"P4\"])"
   ]
  },
  {
   "cell_type": "markdown",
   "id": "5996f971",
   "metadata": {},
   "source": [
    "### Exercice 3: Listes chainées"
   ]
  },
  {
   "cell_type": "markdown",
   "id": "c7b1c52f",
   "metadata": {},
   "source": [
    "On veut maintenant implémenter une classe `ListeChainee` de même interface et de même spécification que `Liste`, mais dont l’implémentation soit directement basée sur celle de la liste chaînée.\n",
    "\n",
    "Chaque cellule de la liste est modélisée par un objet de la classe `Noeud` (N'oubliez pas d'exécuter la cellule) :"
   ]
  },
  {
   "cell_type": "code",
   "execution_count": 36,
   "id": "d3234dd3",
   "metadata": {},
   "outputs": [],
   "source": [
    "class Cellule:\n",
    "    \"\"\"Une cellule d'une liste chaînée\"\"\"\n",
    "    def __init__(self, donnee=None, suivante=None):\n",
    "        self.donnee = donnee\n",
    "        self.suivante = suivante\n",
    "        \n",
    "    def __repr__(self):\n",
    "        # On suppose que le contenu est transformable en chaîne de caractères\n",
    "        return str(self.donnee)\n"
   ]
  },
  {
   "cell_type": "markdown",
   "id": "f1c302ab",
   "metadata": {},
   "source": [
    "Chaque noeud contient donc une valeur (son attribut `donnee`), et un pointeur vers le noeud suivant, stocké dans l’attribut `suivante`. En fin de liste, cet attribut vaut None : il n’y a pas de noeud suivant donc le pointeur est nul.\n",
    "\n",
    "On commencera l’implémentation de la classe comme suite :"
   ]
  },
  {
   "cell_type": "code",
   "execution_count": null,
   "id": "f59b55cd",
   "metadata": {},
   "outputs": [],
   "source": [
    "class ListeChainee:\n",
    "    def __init__(self):\n",
    "        self.debut = None\n",
    "\n",
    "    def ajout_debut(self,valeur):\n",
    "        self.debut = Cellule(valeur, self.debut)\n",
    "\n",
    "    def ajout_fin(self,valeur):\n",
    "       # à remplir ainsi que les autres méthodes de l'interface\n",
    "       pass"
   ]
  },
  {
   "cell_type": "markdown",
   "id": "66bbd455",
   "metadata": {},
   "source": [
    "2) Terminez l’implémentation de la liste chaînée, en respectant les même interfaces et la même spécification que pour la classe `Liste`:"
   ]
  },
  {
   "cell_type": "code",
   "execution_count": 49,
   "id": "cebec3d4",
   "metadata": {},
   "outputs": [],
   "source": [
    "class ListeChainee:\n",
    "    def __init__(self):\n",
    "        self.debut = None\n",
    "        \n",
    "    def ajout_debut(self, valeur):\n",
    "        self.debut = Cellule(valeur, self.debut)\n",
    "\n",
    "    def est_vide(self):\n",
    "        # Votre code ici\n",
    "\n",
    "    def longueur(self):\n",
    "        # Votre code ici\n",
    "\n",
    "    def ajout_fin(self, valeur):\n",
    "        # Votre code ici\n",
    "\n",
    "    def enleve_debut(self):\n",
    "        # Votre code ici\n",
    "\n",
    "    def enleve_fin(self):\n",
    "        # Cas 1 la liste est vide\n",
    "        if self.debut is None:\n",
    "            print(\"Erreur: La liste est vide.\")\n",
    "            return None\n",
    "        \n",
    "        # Cas 2 la liste contient un seul élément\n",
    "        if self.debut.suivante is None:\n",
    "            valeur = self.debut.donnee\n",
    "            self.debut = None\n",
    "            return valeur\n",
    "\n",
    "        # Cas 3 la liste contient plus qu'un seul élément\n",
    "        cellule = self.debut\n",
    "        while cellule.suivante.suivante is not None:\n",
    "            cellule = cellule.suivante\n",
    "\n",
    "        valeur = cellule.suivante.donnee\n",
    "        cellule.suivante = None\n",
    "        return valeur\n",
    "\n",
    "    def __repr__(self):\n",
    "        if self.debut is None:\n",
    "            return \"[]\"\n",
    "\n",
    "        representation = \"[\"\n",
    "        cellule = self.debut\n",
    "        while cellule is not None:\n",
    "            representation += str(cellule.donnee)\n",
    "            if cellule.suivante is not None:\n",
    "                representation += \", \"\n",
    "            cellule = cellule.suivante\n",
    "        representation += \"]\"\n",
    "        return representation"
   ]
  },
  {
   "cell_type": "markdown",
   "id": "f11a7116",
   "metadata": {},
   "source": [
    "Tester votre implémentation:"
   ]
  },
  {
   "cell_type": "code",
   "execution_count": 51,
   "id": "c80bedb8-210f-4a34-b591-ccc7945f0d9d",
   "metadata": {},
   "outputs": [
    {
     "name": "stdout",
     "output_type": "stream",
     "text": [
      "Liste vide : []\n",
      "Est vide ? True\n",
      "Longueur : 0\n",
      "Après ajouts (début et fin) : [20, 10, 5]\n",
      "Longueur : 3\n",
      "Élément enlevé au début : 20\n",
      "Liste maintenant : [10, 5]\n",
      "Élément enlevé à la fin : 5\n",
      "Liste maintenant : [10]\n",
      "Élément enlevé au début : 10\n",
      "Liste maintenant : []\n",
      "Erreur: La liste est vide.\n",
      "Erreur: La liste est vide.\n"
     ]
    }
   ],
   "source": [
    "liste = ListeChainee()\n",
    "\n",
    "print(\"Liste vide :\", liste)                        # []\n",
    "print(\"Est vide ?\", liste.est_vide())              # True\n",
    "print(\"Longueur :\", liste.longueur())              # 0\n",
    "\n",
    "liste.ajout_debut(10)\n",
    "liste.ajout_debut(20)\n",
    "liste.ajout_fin(5)\n",
    "print(\"Après ajouts (début et fin) :\", liste)      # [20, 10, 5]\n",
    "print(\"Longueur :\", liste.longueur())              # 3\n",
    "\n",
    "val = liste.enleve_debut()\n",
    "print(f\"Élément enlevé au début : {val}\")          # 20\n",
    "print(\"Liste maintenant :\", liste)                 # [10, 5]\n",
    "\n",
    "val = liste.enleve_fin()\n",
    "print(f\"Élément enlevé à la fin : {val}\")          # 5\n",
    "print(\"Liste maintenant :\", liste)                 # [10]\n",
    "\n",
    "val = liste.enleve_debut()\n",
    "print(f\"Élément enlevé au début : {val}\")          # 10\n",
    "print(\"Liste maintenant :\", liste)                 # []\n",
    "\n",
    "val = liste.enleve_debut()                         # Erreur\n",
    "val = liste.enleve_fin()                           # Erreur\n"
   ]
  },
  {
   "cell_type": "markdown",
   "id": "ddc5382d",
   "metadata": {},
   "source": [
    "### Exercice 5: Les tables de hachage"
   ]
  },
  {
   "cell_type": "markdown",
   "id": "0cd5fbf8",
   "metadata": {},
   "source": [
    "Le code suivant implémente une table de hachage en Python, avec les principales opérations associées : insertion, récupération, suppression et une représentation de l'objet sous forme de chaîne de caractères. La table de hachage gère les collisions en utilisant le **chaînage**, c'est-à-dire en stockant plusieurs paires clé-valeur dans une liste pour chaque indice de la table.\n",
    "\n",
    "\n",
    "1. **`__init__(self, taille=10)`** :\n",
    "   - Initialise une table de hachage vide avec un nombre de cases (ou \"seaux\") spécifié (`taille`). Chaque case est une liste vide pour gérer les collisions.\n",
    "\n",
    "2. **`f_hachage(self, cle)`** :\n",
    "   - Calcule l'indice de la table de hachage où la clé devrait être insérée ou recherchée. Utilise la somme des codes ASCII des caractères de la clé, puis applique l'opérateur modulo avec la taille de la table.\n",
    "\n",
    "3. **`insert(self, cle, valeur)`** :\n",
    "   - Insère une paire clé-valeur dans la table de hachage. Si la clé existe déjà, elle met à jour la valeur correspondante. Si une collision survient, elle ajoute la nouvelle paire à la liste à l'indice calculé.\n",
    "\n",
    "4. **`get(self, cle)`** :\n",
    "   - Recherche et retourne la valeur associée à la clé donnée. Si la clé n'est pas trouvée, retourne `None`.\n",
    "\n",
    "5. **`remove(self, cle)`** :\n",
    "   - Supprime la paire clé-valeur associée à la clé donnée. Retourne la valeur supprimée si la clé est trouvée, sinon retourne `\"Clé non trouvée\"`.\n",
    "\n",
    "6. **`__repr__(self)`** :\n",
    "   - Retourne une représentation sous forme de chaîne de caractères de la table de hachage, ressemblant à un dictionnaire Python, avec toutes les paires clé-valeur dans la table.\n",
    "\n",
    "Etant donné la partie de la classe `HashTable`. Complétez les fonction `insert`, `get` et `remove`:"
   ]
  },
  {
   "cell_type": "code",
   "execution_count": 54,
   "id": "8d9a1d0f",
   "metadata": {},
   "outputs": [],
   "source": [
    "class HashTable:\n",
    "    def __init__(self, taille=10):\n",
    "        self.taille = # Votre code ici : Taille initiale de la table\n",
    "        self.table = [[] for _ in range(self.taille)]  # Liste de listes pour chaque case\n",
    "\n",
    "    def f_hachage(self, cle): \n",
    "        n = sum(ord(char) for char in cle)\n",
    "        return n % self.taille  # Appliquer modulo sur le résultat\n",
    "    \n",
    "    def __repr__(self):\n",
    "        \"\"\"Retourne une représentation sous forme de dictionnaire.\"\"\"\n",
    "        affichage ='{\\n'\n",
    "        for index in range(self.taille):\n",
    "            for cle, valeur in self.table[index]:\n",
    "                affichage = affichage + cle + ' : ' +  str(valeur) + '\\n'\n",
    "                \n",
    "        return affichage + '}'\n",
    "\n",
    "    def insert(self, cle, valeur):\n",
    "        indice = self.f_hachage(cle)\n",
    "        \n",
    "        # Vérifier si la clé existe et remplacer sa valeur si nécessaire\n",
    "        for i, (c, v) in enumerate(self.table[indice]):\n",
    "            if c == cle:\n",
    "                self.table[indice][i] = # Votre code ici\n",
    "                return\n",
    "            \n",
    "        # En cas de collision ou l'élément n'existe pas    \n",
    "        self.table[indice].append((cle,valeur))\n",
    "\n",
    "\n",
    "    def get(self, cle):\n",
    "        indice = self.f_hachage(cle)\n",
    "        for c, v in self.table[indice]:\n",
    "            if c == cle:\n",
    "                return # Votre code ici\n",
    "        return None  # Si la clé n'est pas trouvée\n",
    "    \n",
    "\n",
    "    def remove(self, cle):\n",
    "        indice = self.f_hachage(cle)\n",
    "        for i, (c, v) in enumerate(self.table[indice]):\n",
    "            if c == cle:\n",
    "                del # Votre code ici (supprimer la clé)\n",
    "                return # Votre code ici (Retourner la valeur supprimée)\n",
    "        return \"Clé non trouvée\"  # Si la clé n'est pas trouvée"
   ]
  },
  {
   "cell_type": "code",
   "execution_count": 56,
   "id": "685ed714",
   "metadata": {},
   "outputs": [
    {
     "name": "stdout",
     "output_type": "stream",
     "text": [
      "{\n",
      "nom : Ahmed\n",
      "ville : Taroudannt\n",
      "age : 35\n",
      "}\n",
      "None\n",
      "{\n",
      "nom : Ahmed\n",
      "ville : Taroudannt\n",
      "}\n"
     ]
    }
   ],
   "source": [
    "hash_table = HashTable()\n",
    "\n",
    "# Insertion de paires clé-valeur\n",
    "hash_table.insert(\"nom\", \"Ahmed\") \n",
    "hash_table.insert(\"age\", 30)\n",
    "hash_table.insert(\"age\", 35)\n",
    "hash_table.insert(\"ville\", \"Taroudannt\")\n",
    "\n",
    "# Affichage:\n",
    "'''{\n",
    "nom : Ahmed\n",
    "ville : Taroudannt\n",
    "age : 35\n",
    "}'''\n",
    "print(hash_table)\n",
    "\n",
    "\n",
    "# Suppression d'une paire\n",
    "hash_table.remove(\"age\")\n",
    "print(hash_table.get(\"age\"))  # Sortie: None (car la clé \"age\" a été supprimée)\n",
    "\n",
    "# Affichage:\n",
    "'''{\n",
    "nom : Ahmed\n",
    "ville : Taroudannt\n",
    "}'''\n",
    "print(hash_table)"
   ]
  }
 ],
 "metadata": {
  "kernelspec": {
   "display_name": "Python 3 (ipykernel)",
   "language": "python",
   "name": "python3"
  },
  "language_info": {
   "codemirror_mode": {
    "name": "ipython",
    "version": 3
   },
   "file_extension": ".py",
   "mimetype": "text/x-python",
   "name": "python",
   "nbconvert_exporter": "python",
   "pygments_lexer": "ipython3",
   "version": "3.12.6"
  },
  "toc-autonumbering": false
 },
 "nbformat": 4,
 "nbformat_minor": 5
}
